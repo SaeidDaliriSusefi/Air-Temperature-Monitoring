{
  "nbformat": 4,
  "nbformat_minor": 0,
  "metadata": {
    "colab": {
      "provenance": [],
      "authorship_tag": "ABX9TyMUZ1HbDhjCiHQiWf1mPnzY",
      "include_colab_link": true
    },
    "kernelspec": {
      "name": "python3",
      "display_name": "Python 3"
    },
    "language_info": {
      "name": "python"
    }
  },
  "cells": [
    {
      "cell_type": "markdown",
      "metadata": {
        "id": "view-in-github",
        "colab_type": "text"
      },
      "source": [
        "<a href=\"https://colab.research.google.com/github/SaeidDaliriSusefi/Air-Temperature-Monitoring/blob/main/Main.ipynb\" target=\"_parent\"><img src=\"https://colab.research.google.com/assets/colab-badge.svg\" alt=\"Open In Colab\"/></a>"
      ]
    },
    {
      "cell_type": "code",
      "source": [
        "!pip install xee -q\n",
        "!pip install pymannkendall -q"
      ],
      "metadata": {
        "id": "ZaG7_Lgm8XsR"
      },
      "execution_count": 8,
      "outputs": []
    },
    {
      "cell_type": "code",
      "source": [
        "import ee\n",
        "import geemap\n",
        "import xarray as xr\n",
        "import xee\n",
        "import pymannkendall as mk\n",
        "import matplotlib.pyplot as plt\n",
        "import matplotlib.colors as mcolors\n",
        "from mpl_toolkits.axes_grid1 import make_axes_locatable\n",
        "from matplotlib.ticker import FormatStrFormatter\n",
        "import json\n",
        "import geopandas as gpd\n",
        "import pandas as pd"
      ],
      "metadata": {
        "id": "tMt3YjeVbdlp"
      },
      "execution_count": 3,
      "outputs": []
    },
    {
      "cell_type": "code",
      "source": [
        "ee.Authenticate()\n",
        "ee.Initialize(project=\"Your google earth engine project name\", opt_url='https://earthengine-highvolume.googleapis.com')"
      ],
      "metadata": {
        "colab": {
          "base_uri": "https://localhost:8080/",
          "height": 17
        },
        "id": "-tTryODbbgLM",
        "outputId": "4966bd92-ab46-4cc1-b20a-f401dd62ca9f"
      },
      "execution_count": 4,
      "outputs": [
        {
          "output_type": "display_data",
          "data": {
            "text/plain": [
              "<IPython.core.display.HTML object>"
            ],
            "text/html": [
              "\n",
              "            <style>\n",
              "                .geemap-dark {\n",
              "                    --jp-widgets-color: white;\n",
              "                    --jp-widgets-label-color: white;\n",
              "                    --jp-ui-font-color1: white;\n",
              "                    --jp-layout-color2: #454545;\n",
              "                    background-color: #383838;\n",
              "                }\n",
              "\n",
              "                .geemap-dark .jupyter-button {\n",
              "                    --jp-layout-color3: #383838;\n",
              "                }\n",
              "\n",
              "                .geemap-colab {\n",
              "                    background-color: var(--colab-primary-surface-color, white);\n",
              "                }\n",
              "\n",
              "                .geemap-colab .jupyter-button {\n",
              "                    --jp-layout-color3: var(--colab-primary-surface-color, white);\n",
              "                }\n",
              "            </style>\n",
              "            "
            ]
          },
          "metadata": {}
        }
      ]
    },
    {
      "cell_type": "code",
      "source": [
        "# Select the area of intrest\n",
        "map=geemap.Map(basemap=\"SATELLITE\")\n",
        "map"
      ],
      "metadata": {
        "id": "B6ZrwFIVbipF"
      },
      "execution_count": 8,
      "outputs": []
    },
    {
      "cell_type": "code",
      "source": [
        "roi = map.draw_last_feature.geometry()\n",
        "start_time = '1980'\n",
        "end_time = '2025'\n",
        "\n",
        "\n",
        "collection = ee.ImageCollection(\"ECMWF/ERA5/MONTHLY\").select('mean_2m_air_temperature').filterDate(start_time,end_time)\n",
        "ds = xr.open_dataset(collection, engine = 'ee', crs = 'EPSG:4326', scale = 0.27, geometry = roi)\n"
      ],
      "metadata": {
        "colab": {
          "base_uri": "https://localhost:8080/",
          "height": 17
        },
        "id": "7scabsrAb6fc",
        "outputId": "ee2bb881-2d37-4a32-9d4f-98dbcc1e3135"
      },
      "execution_count": 6,
      "outputs": [
        {
          "output_type": "display_data",
          "data": {
            "text/plain": [
              "<IPython.core.display.HTML object>"
            ],
            "text/html": [
              "\n",
              "            <style>\n",
              "                .geemap-dark {\n",
              "                    --jp-widgets-color: white;\n",
              "                    --jp-widgets-label-color: white;\n",
              "                    --jp-ui-font-color1: white;\n",
              "                    --jp-layout-color2: #454545;\n",
              "                    background-color: #383838;\n",
              "                }\n",
              "\n",
              "                .geemap-dark .jupyter-button {\n",
              "                    --jp-layout-color3: #383838;\n",
              "                }\n",
              "\n",
              "                .geemap-colab {\n",
              "                    background-color: var(--colab-primary-surface-color, white);\n",
              "                }\n",
              "\n",
              "                .geemap-colab .jupyter-button {\n",
              "                    --jp-layout-color3: var(--colab-primary-surface-color, white);\n",
              "                }\n",
              "            </style>\n",
              "            "
            ]
          },
          "metadata": {}
        }
      ]
    },
    {
      "cell_type": "code",
      "source": [
        "def mk_test(img):\n",
        "  test = mk.original_test(img)\n",
        "  trend = test.trend\n",
        "  trend_class = {'increasing':1, 'decreasing': -1, 'no_trend':0}\n",
        "  trend_reclass = trend_class.get(trend, 0)\n",
        "  score = test.s\n",
        "  pval = test.p\n",
        "  return trend_reclass, score, pval\n",
        "\n",
        "\n",
        "change_trend, change_score, change_pval = xr.apply_ufunc(\n",
        "    mk_test,\n",
        "    ds.mean_2m_air_temperature,\n",
        "    input_core_dims = [['time']],\n",
        "    output_core_dims = [[],[],[]],\n",
        "    dask = 'allowed',\n",
        "    vectorize = True,\n",
        "    output_dtypes = ['int','float64', 'float64']\n",
        ")\n",
        "\n",
        "change_trend = change_trend.rename('trend')\n",
        "change_score = change_score.rename('score') * 0.0001   # just to normalize the scallbar\n",
        "change_pval = change_pval.rename('p_value')\n"
      ],
      "metadata": {
        "id": "tYhCjlxIdpr1",
        "colab": {
          "base_uri": "https://localhost:8080/",
          "height": 17
        },
        "outputId": "e6a1ef17-72f6-4038-e092-0389d0007d0d"
      },
      "execution_count": 7,
      "outputs": [
        {
          "output_type": "display_data",
          "data": {
            "text/plain": [
              "<IPython.core.display.HTML object>"
            ],
            "text/html": [
              "\n",
              "            <style>\n",
              "                .geemap-dark {\n",
              "                    --jp-widgets-color: white;\n",
              "                    --jp-widgets-label-color: white;\n",
              "                    --jp-ui-font-color1: white;\n",
              "                    --jp-layout-color2: #454545;\n",
              "                    background-color: #383838;\n",
              "                }\n",
              "\n",
              "                .geemap-dark .jupyter-button {\n",
              "                    --jp-layout-color3: #383838;\n",
              "                }\n",
              "\n",
              "                .geemap-colab {\n",
              "                    background-color: var(--colab-primary-surface-color, white);\n",
              "                }\n",
              "\n",
              "                .geemap-colab .jupyter-button {\n",
              "                    --jp-layout-color3: var(--colab-primary-surface-color, white);\n",
              "                }\n",
              "            </style>\n",
              "            "
            ]
          },
          "metadata": {}
        }
      ]
    },
    {
      "cell_type": "code",
      "source": [
        "Country_name = 'Iran'\n",
        "Country = ee.FeatureCollection(\"USDOS/LSIB_SIMPLE/2017\").filter(ee.Filter.eq('country_na', Country_name))\n",
        "iran_geojson = Country.geometry().getInfo()\n",
        "iran_geojson_dict = json.dumps(iran_geojson)\n",
        "iran_gdf = gpd.read_file(iran_geojson_dict)\n",
        "\n",
        "\n",
        "min_lon, min_lat, max_lon, max_lat = iran_gdf.total_bounds\n",
        "\n",
        "fig, axes = plt.subplots(1, 3, figsize=(25, 25), constrained_layout=False)\n",
        "titles = ['Trend', 'Score', 'P-value']\n",
        "datasets = [change_trend, change_score, change_pval]\n",
        "cmaps = ['coolwarm', 'viridis', 'viridis']\n",
        "vmins = [-1, None, None]\n",
        "vmaxs = [1, None, 0.05]\n",
        "\n",
        "\n",
        "cmap_score = mcolors.LinearSegmentedColormap.from_list('green_orange_red', ['green', 'orange', 'red'])\n",
        "\n",
        "\n",
        "cmap_pvalue = mcolors.LinearSegmentedColormap.from_list('reverse_pvalue', ['pink', 'white', 'grey'])\n",
        "\n",
        "cmap_trend = mcolors.ListedColormap(['blue', 'gray', 'red'])\n",
        "\n",
        "\n",
        "norm_trend = mcolors.BoundaryNorm(boundaries=[-1, -0.5, 0.5, 1], ncolors=3)\n",
        "\n",
        "for idx, (ax, data, title, cmap, vmin, vmax) in enumerate(zip(axes, datasets, titles, cmaps, vmins, vmaxs)):\n",
        "    divider = make_axes_locatable(ax)\n",
        "    cax = divider.append_axes(\"right\", size=\"5%\", pad=0.05)\n",
        "\n",
        "    if title == 'Score':\n",
        "        im = data.plot(\n",
        "            x='lon', y='lat', ax=ax, add_colorbar=False,\n",
        "            cmap=cmap_score, vmin=0, vmax=1, robust=True\n",
        "        )\n",
        "        ax.set_title('Intensity')\n",
        "    elif title == 'P-value':\n",
        "        im = data.plot(\n",
        "            x='lon', y='lat', ax=ax, add_colorbar=False,\n",
        "            cmap=cmap_pvalue, vmin=0, vmax=0.05, robust=True\n",
        "        )\n",
        "        ax.set_title('Accuracy')\n",
        "    else:\n",
        "        im = data.plot(\n",
        "            x='lon', y='lat', ax=ax, add_colorbar=False,\n",
        "            cmap=cmap_trend, norm=norm_trend, robust=True\n",
        "        )\n",
        "        ax.set_title('Trend')\n",
        "\n",
        "    iran_gdf.plot(ax=ax, color='none', edgecolor='black', linewidth=0.8)\n",
        "\n",
        "\n",
        "    cbar = plt.colorbar(im, cax=cax, cmap=cmap)\n",
        "\n",
        "    if title == 'Trend':\n",
        "        cbar.set_ticks([-1, 0, 1])\n",
        "        cbar.set_ticklabels(['Decreasing', 'No trend', 'Increasing'])\n",
        "    elif title == 'Score':\n",
        "        cbar.set_ticks([0, 0.5, 1])\n",
        "        cbar.set_ticklabels(['Low', 'Moderate', 'High'])\n",
        "    elif title == 'P-value':\n",
        "        cbar.set_ticks([0, 0.05])\n",
        "        cbar.set_ticklabels(['100%', '95%'])\n",
        "\n",
        "    ax.set_xlim(min_lon, max_lon)\n",
        "    ax.set_ylim(min_lat, max_lat)\n",
        "\n",
        "\n",
        "plt.subplots_adjust(hspace=0.3)\n",
        "\n",
        "\n",
        "plt.savefig('output_plot.png', dpi=300, bbox_inches='tight')\n",
        "\n",
        "\n",
        "plt.show()\n"
      ],
      "metadata": {
        "id": "oJIwwIP6SulV"
      },
      "execution_count": 8,
      "outputs": []
    },
    {
      "cell_type": "code",
      "source": [],
      "metadata": {
        "id": "jD3RLz4K6Cff"
      },
      "execution_count": null,
      "outputs": []
    }
  ]
}