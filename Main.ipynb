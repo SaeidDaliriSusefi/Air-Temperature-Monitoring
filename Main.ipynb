{
  "nbformat": 4,
  "nbformat_minor": 0,
  "metadata": {
    "colab": {
      "provenance": [],
      "authorship_tag": "ABX9TyMImZVHJTNQW8G4ar2vFOgO",
      "include_colab_link": true
    },
    "kernelspec": {
      "name": "python3",
      "display_name": "Python 3"
    },
    "language_info": {
      "name": "python"
    }
  },
  "cells": [
    {
      "cell_type": "markdown",
      "metadata": {
        "id": "view-in-github",
        "colab_type": "text"
      },
      "source": [
        "<a href=\"https://colab.research.google.com/github/SaeidDaliriSusefi/Air-Temperature-Monitoring/blob/main/Main.ipynb\" target=\"_parent\"><img src=\"https://colab.research.google.com/assets/colab-badge.svg\" alt=\"Open In Colab\"/></a>"
      ]
    },
    {
      "cell_type": "code",
      "source": [
        "!pip install xee -q\n",
        "!pip install pymannkendall -q"
      ],
      "metadata": {
        "id": "ZaG7_Lgm8XsR"
      },
      "execution_count": null,
      "outputs": []
    },
    {
      "cell_type": "code",
      "source": [
        "import ee\n",
        "import geemap\n",
        "import xarray as xr\n",
        "import xee\n",
        "import pymannkendall as mk\n",
        "import matplotlib.pyplot as plt\n",
        "import matplotlib.colors as mcolors\n",
        "from mpl_toolkits.axes_grid1 import make_axes_locatable\n",
        "from matplotlib.ticker import FormatStrFormatter"
      ],
      "metadata": {
        "colab": {
          "base_uri": "https://localhost:8080/",
          "height": 17
        },
        "id": "tMt3YjeVbdlp",
        "outputId": "8d31ee65-a490-49eb-aad4-73aed50c2e61"
      },
      "execution_count": null,
      "outputs": [
        {
          "output_type": "display_data",
          "data": {
            "text/plain": [
              "<IPython.core.display.HTML object>"
            ],
            "text/html": [
              "\n",
              "            <style>\n",
              "                .geemap-dark {\n",
              "                    --jp-widgets-color: white;\n",
              "                    --jp-widgets-label-color: white;\n",
              "                    --jp-ui-font-color1: white;\n",
              "                    --jp-layout-color2: #454545;\n",
              "                    background-color: #383838;\n",
              "                }\n",
              "\n",
              "                .geemap-dark .jupyter-button {\n",
              "                    --jp-layout-color3: #383838;\n",
              "                }\n",
              "\n",
              "                .geemap-colab {\n",
              "                    background-color: var(--colab-primary-surface-color, white);\n",
              "                }\n",
              "\n",
              "                .geemap-colab .jupyter-button {\n",
              "                    --jp-layout-color3: var(--colab-primary-surface-color, white);\n",
              "                }\n",
              "            </style>\n",
              "            "
            ]
          },
          "metadata": {}
        }
      ]
    },
    {
      "cell_type": "code",
      "source": [
        "ee.Authenticate()\n",
        "ee.Initialize(project=\"Your google earth engine project name\", opt_url='https://earthengine-highvolume.googleapis.com')"
      ],
      "metadata": {
        "colab": {
          "base_uri": "https://localhost:8080/",
          "height": 17
        },
        "id": "-tTryODbbgLM",
        "outputId": "aeb98e21-40df-4acc-874e-967d2f49af86"
      },
      "execution_count": null,
      "outputs": [
        {
          "output_type": "display_data",
          "data": {
            "text/plain": [
              "<IPython.core.display.HTML object>"
            ],
            "text/html": [
              "\n",
              "            <style>\n",
              "                .geemap-dark {\n",
              "                    --jp-widgets-color: white;\n",
              "                    --jp-widgets-label-color: white;\n",
              "                    --jp-ui-font-color1: white;\n",
              "                    --jp-layout-color2: #454545;\n",
              "                    background-color: #383838;\n",
              "                }\n",
              "\n",
              "                .geemap-dark .jupyter-button {\n",
              "                    --jp-layout-color3: #383838;\n",
              "                }\n",
              "\n",
              "                .geemap-colab {\n",
              "                    background-color: var(--colab-primary-surface-color, white);\n",
              "                }\n",
              "\n",
              "                .geemap-colab .jupyter-button {\n",
              "                    --jp-layout-color3: var(--colab-primary-surface-color, white);\n",
              "                }\n",
              "            </style>\n",
              "            "
            ]
          },
          "metadata": {}
        }
      ]
    },
    {
      "cell_type": "code",
      "source": [
        "# Select the area of intrest\n",
        "map=geemap.Map(basemap=\"SATELLITE\")\n",
        "map"
      ],
      "metadata": {
        "id": "B6ZrwFIVbipF"
      },
      "execution_count": null,
      "outputs": []
    },
    {
      "cell_type": "code",
      "source": [
        "roi = map.draw_last_feature.geometry()\n",
        "\n",
        "start_time = '1950'\n",
        "end_time = '2025'\n",
        "\n",
        "\n",
        "collection = ee.ImageCollection(\"ECMWF/ERA5_LAND/DAILY_AGGR\").select('temperature_2m').filterDate(start_time,end_time)\n",
        "\n",
        "ds = xr.open_dataset(collection, engine = 'ee', crs = 'EPSG:4326', scale = 0.27, geometry = roi)\n"
      ],
      "metadata": {
        "colab": {
          "base_uri": "https://localhost:8080/",
          "height": 17
        },
        "id": "7scabsrAb6fc",
        "outputId": "5d8b94d7-6f4b-4d07-ca12-57e4502da01b"
      },
      "execution_count": null,
      "outputs": [
        {
          "output_type": "display_data",
          "data": {
            "text/plain": [
              "<IPython.core.display.HTML object>"
            ],
            "text/html": [
              "\n",
              "            <style>\n",
              "                .geemap-dark {\n",
              "                    --jp-widgets-color: white;\n",
              "                    --jp-widgets-label-color: white;\n",
              "                    --jp-ui-font-color1: white;\n",
              "                    --jp-layout-color2: #454545;\n",
              "                    background-color: #383838;\n",
              "                }\n",
              "\n",
              "                .geemap-dark .jupyter-button {\n",
              "                    --jp-layout-color3: #383838;\n",
              "                }\n",
              "\n",
              "                .geemap-colab {\n",
              "                    background-color: var(--colab-primary-surface-color, white);\n",
              "                }\n",
              "\n",
              "                .geemap-colab .jupyter-button {\n",
              "                    --jp-layout-color3: var(--colab-primary-surface-color, white);\n",
              "                }\n",
              "            </style>\n",
              "            "
            ]
          },
          "metadata": {}
        }
      ]
    },
    {
      "cell_type": "code",
      "source": [
        "def mk_test(img):\n",
        "  test = mk.original_test(img)\n",
        "  trend = test.trend\n",
        "  trend_class = {'increasing':1, 'decreasing': -1, 'no_trend':0}\n",
        "  trend_reclass = trend_class.get(trend, 0)\n",
        "  score = test.s\n",
        "  pval = test.p\n",
        "  return trend_reclass, score, pval\n",
        "\n",
        "\n",
        "change_trend, change_score, change_pval = xr.apply_ufunc(\n",
        "    mk_test,\n",
        "    ds.mean_2m_air_temperature,\n",
        "    input_core_dims = [['time']],\n",
        "    output_core_dims = [[],[],[]],\n",
        "    dask = 'allowed',\n",
        "    vectorize = True,\n",
        "    output_dtypes = ['int','float64', 'float64']\n",
        ")\n",
        "\n",
        "change_trend = change_trend.rename('trend')\n",
        "change_score = change_score.rename('score') * 0.0001   # just to normalize the scallbar\n",
        "change_pval = change_pval.rename('p_value')\n",
        "\n"
      ],
      "metadata": {
        "id": "tYhCjlxIdpr1"
      },
      "execution_count": null,
      "outputs": []
    },
    {
      "cell_type": "code",
      "source": [
        "Country_name = 'Italy'\n",
        "Country = ee.FeatureCollection(\"USDOS/LSIB_SIMPLE/2017\").filter(ee.Filter.eq('country_na', Country_name))\n",
        "iran_geojson = Country.geometry().getInfo()\n",
        "iran_geojson_dict = json.dumps(iran_geojson)\n",
        "iran_gdf = gpd.read_file(iran_geojson_dict)\n",
        "\n",
        "\n",
        "min_lon, min_lat, max_lon, max_lat = iran_gdf.total_bounds\n",
        "\n",
        "fig, axes = plt.subplots(1, 3, figsize=(25, 25), constrained_layout=False)\n",
        "titles = ['Trend', 'Score', 'P-value']\n",
        "datasets = [change_trend, change_score, change_pval]\n",
        "cmaps = ['coolwarm', 'viridis', 'viridis']\n",
        "vmins = [-1, None, None]\n",
        "vmaxs = [1, None, 0.05]\n",
        "\n",
        "\n",
        "cmap_score = mcolors.LinearSegmentedColormap.from_list('green_orange_red', ['green', 'orange', 'red'])\n",
        "\n",
        "\n",
        "cmap_pvalue = mcolors.LinearSegmentedColormap.from_list('reverse_pvalue', ['pink', 'white', 'grey'])\n",
        "\n",
        "cmap_trend = mcolors.ListedColormap(['blue', 'gray', 'red'])\n",
        "\n",
        "\n",
        "norm_trend = mcolors.BoundaryNorm(boundaries=[-1, -0.5, 0.5, 1], ncolors=3)\n",
        "\n",
        "for idx, (ax, data, title, cmap, vmin, vmax) in enumerate(zip(axes, datasets, titles, cmaps, vmins, vmaxs)):\n",
        "    divider = make_axes_locatable(ax)\n",
        "    cax = divider.append_axes(\"right\", size=\"5%\", pad=0.05)\n",
        "\n",
        "    if title == 'Score':\n",
        "        im = data.plot(\n",
        "            x='lon', y='lat', ax=ax, add_colorbar=False,\n",
        "            cmap=cmap_score, vmin=0, vmax=1, robust=True\n",
        "        )\n",
        "        ax.set_title('Intensity')\n",
        "    elif title == 'P-value':\n",
        "        im = data.plot(\n",
        "            x='lon', y='lat', ax=ax, add_colorbar=False,\n",
        "            cmap=cmap_pvalue, vmin=0, vmax=0.05, robust=True\n",
        "        )\n",
        "        ax.set_title('Accuracy')\n",
        "    else:\n",
        "        im = data.plot(\n",
        "            x='lon', y='lat', ax=ax, add_colorbar=False,\n",
        "            cmap=cmap_trend, norm=norm_trend, robust=True\n",
        "        )\n",
        "        ax.set_title('Trend')\n",
        "\n",
        "    iran_gdf.plot(ax=ax, color='none', edgecolor='black', linewidth=0.8)\n",
        "\n",
        "\n",
        "    cbar = plt.colorbar(im, cax=cax, cmap=cmap)\n",
        "\n",
        "    if title == 'Trend':\n",
        "        cbar.set_ticks([-1, 0, 1])\n",
        "        cbar.set_ticklabels(['Decreasing', 'No trend', 'Increasing'])\n",
        "    elif title == 'Score':\n",
        "        cbar.set_ticks([0, 0.5, 1])\n",
        "        cbar.set_ticklabels(['Low', 'Moderate', 'High'])\n",
        "    elif title == 'P-value':\n",
        "        cbar.set_ticks([0, 0.05])\n",
        "        cbar.set_ticklabels(['100%', '95%'])\n",
        "\n",
        "    ax.set_xlim(min_lon, max_lon)\n",
        "    ax.set_ylim(min_lat, max_lat)\n",
        "\n",
        "\n",
        "plt.subplots_adjust(hspace=0.3)\n",
        "\n",
        "\n",
        "plt.savefig('output_plot.png', dpi=300, bbox_inches='tight')\n",
        "\n",
        "\n",
        "plt.show()\n"
      ],
      "metadata": {
        "id": "oJIwwIP6SulV"
      },
      "execution_count": null,
      "outputs": []
    }
  ]
}